{
 "cells": [
  {
   "cell_type": "code",
   "execution_count": 1,
   "id": "23685a93",
   "metadata": {},
   "outputs": [],
   "source": [
    "sample = \"\"\"two1nine\n",
    "eightwothree\n",
    "abcone2threexyz\n",
    "xtwone3four\n",
    "4nineeightseven2\n",
    "zoneight234\n",
    "7pqrstsixteen\"\"\""
   ]
  },
  {
   "cell_type": "code",
   "execution_count": 53,
   "id": "93ae75d9",
   "metadata": {},
   "outputs": [],
   "source": [
    "f = open(\"input.txt\", \"r\")\n",
    "lines = f.readlines()"
   ]
  },
  {
   "cell_type": "code",
   "execution_count": 46,
   "id": "880068a1",
   "metadata": {},
   "outputs": [],
   "source": [
    "alpha_values = {'one':'1', 'two':'2', 'three':'3', 'four':'4', 'five':'5', 'six':'6', 'seven':'7', 'eight':'8', 'nine':'9'}"
   ]
  },
  {
   "cell_type": "code",
   "execution_count": 47,
   "id": "3d2ae5e3",
   "metadata": {},
   "outputs": [],
   "source": [
    "from collections import defaultdict\n",
    "alpha_map = defaultdict(list)"
   ]
  },
  {
   "cell_type": "code",
   "execution_count": 49,
   "id": "81e40b8d",
   "metadata": {},
   "outputs": [],
   "source": [
    "for alpha in alpha_values.keys():\n",
    "    alpha_map[alpha[0]].append(alpha)"
   ]
  },
  {
   "cell_type": "code",
   "execution_count": 50,
   "id": "a40d1f0b",
   "metadata": {},
   "outputs": [
    {
     "data": {
      "text/plain": [
       "defaultdict(list,\n",
       "            {'o': ['one'],\n",
       "             't': ['two', 'three'],\n",
       "             'f': ['four', 'five'],\n",
       "             's': ['six', 'seven'],\n",
       "             'e': ['eight'],\n",
       "             'n': ['nine']})"
      ]
     },
     "execution_count": 50,
     "metadata": {},
     "output_type": "execute_result"
    }
   ],
   "source": [
    "alpha_map"
   ]
  },
  {
   "cell_type": "code",
   "execution_count": 36,
   "id": "0aa90a52",
   "metadata": {},
   "outputs": [],
   "source": [
    "def translate(row):\n",
    "    numbers = []\n",
    "    for i,c in enumerate(row):\n",
    "        if c.isnumeric():\n",
    "            numbers.append(c)\n",
    "        if c in alpha_map:\n",
    "            for alpha in alpha_map[c]:\n",
    "                if alpha == row[i:i+len(alpha)]:\n",
    "                    numbers.append(alpha_values[alpha])\n",
    "    return int(numbers[0]+numbers[-1])"
   ]
  },
  {
   "cell_type": "code",
   "execution_count": 56,
   "id": "9b3f6618",
   "metadata": {},
   "outputs": [
    {
     "data": {
      "text/plain": [
       "54649"
      ]
     },
     "execution_count": 56,
     "metadata": {},
     "output_type": "execute_result"
    }
   ],
   "source": [
    "sum(translate(row) for row in lines)"
   ]
  },
  {
   "cell_type": "code",
   "execution_count": 34,
   "id": "b0904f44",
   "metadata": {},
   "outputs": [
    {
     "data": {
      "text/plain": [
       "[8, 2, 3]"
      ]
     },
     "execution_count": 34,
     "metadata": {},
     "output_type": "execute_result"
    }
   ],
   "source": [
    "numbers"
   ]
  },
  {
   "cell_type": "code",
   "execution_count": 30,
   "id": "7dae4daa",
   "metadata": {},
   "outputs": [
    {
     "data": {
      "text/plain": [
       "'two1nine'"
      ]
     },
     "execution_count": 30,
     "metadata": {},
     "output_type": "execute_result"
    }
   ],
   "source": [
    "sample[0]"
   ]
  }
 ],
 "metadata": {
  "kernelspec": {
   "display_name": "Python 3 (ipykernel)",
   "language": "python",
   "name": "python3"
  },
  "language_info": {
   "codemirror_mode": {
    "name": "ipython",
    "version": 3
   },
   "file_extension": ".py",
   "mimetype": "text/x-python",
   "name": "python",
   "nbconvert_exporter": "python",
   "pygments_lexer": "ipython3",
   "version": "3.10.4"
  }
 },
 "nbformat": 4,
 "nbformat_minor": 5
}
