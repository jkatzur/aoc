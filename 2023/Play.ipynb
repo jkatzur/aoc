{
 "cells": [
  {
   "cell_type": "code",
   "execution_count": 1,
   "id": "23685a93",
   "metadata": {},
   "outputs": [],
   "source": [
    "sample = \"\"\"two1nine\n",
    "eightwothree\n",
    "abcone2threexyz\n",
    "xtwone3four\n",
    "4nineeightseven2\n",
    "zoneight234\n",
    "7pqrstsixteen\"\"\""
   ]
  },
  {
   "cell_type": "code",
   "execution_count": 53,
   "id": "93ae75d9",
   "metadata": {},
   "outputs": [],
   "source": [
    "f = open(\"input.txt\", \"r\")\n",
    "lines = f.readlines()"
   ]
  },
  {
   "cell_type": "code",
   "execution_count": 46,
   "id": "880068a1",
   "metadata": {},
   "outputs": [],
   "source": [
    "alpha_values = {'one':'1', 'two':'2', 'three':'3', 'four':'4', 'five':'5', 'six':'6', 'seven':'7', 'eight':'8', 'nine':'9'}"
   ]
  },
  {
   "cell_type": "code",
   "execution_count": 47,
   "id": "3d2ae5e3",
   "metadata": {},
   "outputs": [],
   "source": [
    "from collections import defaultdict\n",
    "alpha_map = defaultdict(list)"
   ]
  },
  {
   "cell_type": "code",
   "execution_count": 49,
   "id": "81e40b8d",
   "metadata": {},
   "outputs": [],
   "source": [
    "for alpha in alpha_values.keys():\n",
    "    alpha_map[alpha[0]].append(alpha)"
   ]
  },
  {
   "cell_type": "code",
   "execution_count": 50,
   "id": "a40d1f0b",
   "metadata": {},
   "outputs": [
    {
     "data": {
      "text/plain": [
       "defaultdict(list,\n",
       "            {'o': ['one'],\n",
       "             't': ['two', 'three'],\n",
       "             'f': ['four', 'five'],\n",
       "             's': ['six', 'seven'],\n",
       "             'e': ['eight'],\n",
       "             'n': ['nine']})"
      ]
     },
     "execution_count": 50,
     "metadata": {},
     "output_type": "execute_result"
    }
   ],
   "source": [
    "alpha_map"
   ]
  },
  {
   "cell_type": "code",
   "execution_count": 36,
   "id": "0aa90a52",
   "metadata": {},
   "outputs": [],
   "source": [
    "def translate(row):\n",
    "    numbers = []\n",
    "    for i,c in enumerate(row):\n",
    "        if c.isnumeric():\n",
    "            numbers.append(c)\n",
    "        if c in alpha_map:\n",
    "            for alpha in alpha_map[c]:\n",
    "                if alpha == row[i:i+len(alpha)]:\n",
    "                    numbers.append(alpha_values[alpha])\n",
    "    return int(numbers[0]+numbers[-1])"
   ]
  },
  {
   "cell_type": "code",
   "execution_count": 56,
   "id": "9b3f6618",
   "metadata": {},
   "outputs": [
    {
     "data": {
      "text/plain": [
       "54649"
      ]
     },
     "execution_count": 56,
     "metadata": {},
     "output_type": "execute_result"
    }
   ],
   "source": [
    "sum(translate(row) for row in lines)"
   ]
  },
  {
   "cell_type": "code",
   "execution_count": 34,
   "id": "b0904f44",
   "metadata": {},
   "outputs": [
    {
     "data": {
      "text/plain": [
       "[8, 2, 3]"
      ]
     },
     "execution_count": 34,
     "metadata": {},
     "output_type": "execute_result"
    }
   ],
   "source": [
    "numbers"
   ]
  },
  {
   "cell_type": "code",
   "execution_count": 30,
   "id": "7dae4daa",
   "metadata": {},
   "outputs": [
    {
     "data": {
      "text/plain": [
       "'two1nine'"
      ]
     },
     "execution_count": 30,
     "metadata": {},
     "output_type": "execute_result"
    }
   ],
   "source": [
    "sample[0]"
   ]
  },
  {
   "cell_type": "markdown",
   "id": "68573dbf",
   "metadata": {},
   "source": [
    "### Day 2"
   ]
  },
  {
   "cell_type": "code",
   "execution_count": 61,
   "id": "1b49c029",
   "metadata": {},
   "outputs": [],
   "source": [
    "f = open(\"input2.txt\", \"r\")\n",
    "lines = f.readlines()"
   ]
  },
  {
   "cell_type": "code",
   "execution_count": 68,
   "id": "4fe267f9",
   "metadata": {},
   "outputs": [
    {
     "data": {
      "text/plain": [
       "['6 green, 3 blue', ' 3 red, 1 green', ' 4 green, 3 red, 5 blue\\n']"
      ]
     },
     "execution_count": 68,
     "metadata": {},
     "output_type": "execute_result"
    }
   ],
   "source": [
    "[game[game.find(':')+2:] for game in lines][0].split(';')"
   ]
  },
  {
   "cell_type": "code",
   "execution_count": 83,
   "id": "285f0931",
   "metadata": {},
   "outputs": [],
   "source": [
    "roundg = [game[game.find(':')+2:] for game in lines][3].split(';')"
   ]
  },
  {
   "cell_type": "code",
   "execution_count": 88,
   "id": "373858e9",
   "metadata": {},
   "outputs": [
    {
     "data": {
      "text/plain": [
       "[' 12 blue', ' 4 green', ' 6 red']"
      ]
     },
     "execution_count": 88,
     "metadata": {},
     "output_type": "execute_result"
    }
   ],
   "source": [
    "roundg[2].split(',')"
   ]
  },
  {
   "cell_type": "code",
   "execution_count": 87,
   "id": "54065ba5",
   "metadata": {},
   "outputs": [
    {
     "data": {
      "text/plain": [
       "'2 '"
      ]
     },
     "execution_count": 87,
     "metadata": {},
     "output_type": "execute_result"
    }
   ],
   "source": [
    "roundg[2][roundg[2].find('blue')-2:roundg[2].find('blue')]"
   ]
  },
  {
   "cell_type": "code",
   "execution_count": 129,
   "id": "699f6e93",
   "metadata": {},
   "outputs": [
    {
     "data": {
      "text/plain": [
       "[' 6 green, 3 blue', ' 3 red, 1 green', ' 4 green, 3 red, 5 blue\\n']"
      ]
     },
     "execution_count": 129,
     "metadata": {},
     "output_type": "execute_result"
    }
   ],
   "source": [
    "lines[0].split(':')[1].split(';')"
   ]
  },
  {
   "cell_type": "code",
   "execution_count": 134,
   "id": "da15fa0c",
   "metadata": {},
   "outputs": [],
   "source": [
    "roll = ' 6 green, 3 blue'"
   ]
  },
  {
   "cell_type": "code",
   "execution_count": 135,
   "id": "e3d3b907",
   "metadata": {},
   "outputs": [
    {
     "data": {
      "text/plain": [
       "-1"
      ]
     },
     "execution_count": 135,
     "metadata": {},
     "output_type": "execute_result"
    }
   ],
   "source": [
    "roll.find('red')"
   ]
  },
  {
   "cell_type": "code",
   "execution_count": 153,
   "id": "525f83f1",
   "metadata": {},
   "outputs": [],
   "source": [
    "def count_games(game_inputs, max_hash):\n",
    "    total = 0\n",
    "    for count,roundg in enumerate(game_inputs):\n",
    "        total += count_game(count+1, roundg, max_hash)\n",
    "    return total"
   ]
  },
  {
   "cell_type": "code",
   "execution_count": 154,
   "id": "adb0605f",
   "metadata": {},
   "outputs": [],
   "source": [
    "def count_game(index, roundg, max_hash):\n",
    "    total = 0\n",
    "    for game in roundg.split(':')[1].split(';'):\n",
    "        for roll in game.split(','):\n",
    "            for color in ('green', 'red', 'blue'):\n",
    "                if roll.find(color) != -1:\n",
    "                    if int(roll[0:roll.find(color)]) > max_hash[color]:\n",
    "                        return 0;\n",
    "    return index;"
   ]
  },
  {
   "cell_type": "code",
   "execution_count": 155,
   "id": "077ffec7",
   "metadata": {},
   "outputs": [],
   "source": [
    "game_inputs = \"\"\"Game 1: 3 blue, 4 red; 1 red, 2 green, 6 blue; 2 green\n",
    "Game 2: 1 blue, 2 green; 3 green, 4 blue, 1 red; 1 green, 1 blue\n",
    "Game 3: 8 green, 6 blue, 20 red; 5 blue, 4 red, 13 green; 5 green, 1 red\n",
    "Game 4: 1 green, 3 red, 6 blue; 3 green, 6 red; 3 green, 15 blue, 14 red\n",
    "Game 5: 6 red, 1 blue, 3 green; 2 blue, 1 red, 2 green\"\"\""
   ]
  },
  {
   "cell_type": "code",
   "execution_count": 156,
   "id": "3bd85ef6",
   "metadata": {},
   "outputs": [],
   "source": [
    "game_inputs = game_inputs.split('\\n')"
   ]
  },
  {
   "cell_type": "code",
   "execution_count": 157,
   "id": "9e9ad1d7",
   "metadata": {},
   "outputs": [
    {
     "name": "stdout",
     "output_type": "stream",
     "text": [
      "index: 1 returning as possible\n",
      "index: 2 returning as possible\n",
      "index: 3 returning 0 because of color: red\n",
      "index: 4 returning 0 because of color: blue\n",
      "index: 5 returning as possible\n"
     ]
    },
    {
     "data": {
      "text/plain": [
       "8"
      ]
     },
     "execution_count": 157,
     "metadata": {},
     "output_type": "execute_result"
    }
   ],
   "source": [
    "count_games(game_inputs, {'green': 13, 'red': 12, 'blue': 14})"
   ]
  },
  {
   "cell_type": "code",
   "execution_count": 158,
   "id": "f485ee6d",
   "metadata": {},
   "outputs": [
    {
     "name": "stdout",
     "output_type": "stream",
     "text": [
      "index: 1 returning as possible\n",
      "index: 2 returning as possible\n",
      "index: 3 returning as possible\n",
      "index: 4 returning 0 because of color: blue\n",
      "index: 5 returning 0 because of color: red\n",
      "index: 6 returning 0 because of color: green\n",
      "index: 7 returning 0 because of color: blue\n",
      "index: 8 returning 0 because of color: blue\n",
      "index: 9 returning as possible\n",
      "index: 10 returning as possible\n",
      "index: 11 returning 0 because of color: red\n",
      "index: 12 returning as possible\n",
      "index: 13 returning as possible\n",
      "index: 14 returning as possible\n",
      "index: 15 returning as possible\n",
      "index: 16 returning 0 because of color: blue\n",
      "index: 17 returning as possible\n",
      "index: 18 returning as possible\n",
      "index: 19 returning as possible\n",
      "index: 20 returning 0 because of color: blue\n",
      "index: 21 returning 0 because of color: blue\n",
      "index: 22 returning 0 because of color: blue\n",
      "index: 23 returning 0 because of color: red\n",
      "index: 24 returning 0 because of color: green\n",
      "index: 25 returning as possible\n",
      "index: 26 returning 0 because of color: green\n",
      "index: 27 returning 0 because of color: blue\n",
      "index: 28 returning 0 because of color: green\n",
      "index: 29 returning 0 because of color: red\n",
      "index: 30 returning as possible\n",
      "index: 31 returning as possible\n",
      "index: 32 returning 0 because of color: red\n",
      "index: 33 returning as possible\n",
      "index: 34 returning as possible\n",
      "index: 35 returning 0 because of color: red\n",
      "index: 36 returning 0 because of color: blue\n",
      "index: 37 returning as possible\n",
      "index: 38 returning as possible\n",
      "index: 39 returning 0 because of color: red\n",
      "index: 40 returning 0 because of color: green\n",
      "index: 41 returning 0 because of color: red\n",
      "index: 42 returning as possible\n",
      "index: 43 returning 0 because of color: blue\n",
      "index: 44 returning 0 because of color: green\n",
      "index: 45 returning as possible\n",
      "index: 46 returning 0 because of color: blue\n",
      "index: 47 returning 0 because of color: red\n",
      "index: 48 returning as possible\n",
      "index: 49 returning as possible\n",
      "index: 50 returning as possible\n",
      "index: 51 returning 0 because of color: red\n",
      "index: 52 returning 0 because of color: blue\n",
      "index: 53 returning as possible\n",
      "index: 54 returning 0 because of color: red\n",
      "index: 55 returning 0 because of color: red\n",
      "index: 56 returning 0 because of color: blue\n",
      "index: 57 returning as possible\n",
      "index: 58 returning as possible\n",
      "index: 59 returning 0 because of color: red\n",
      "index: 60 returning as possible\n",
      "index: 61 returning as possible\n",
      "index: 62 returning as possible\n",
      "index: 63 returning as possible\n",
      "index: 64 returning as possible\n",
      "index: 65 returning as possible\n",
      "index: 66 returning 0 because of color: green\n",
      "index: 67 returning as possible\n",
      "index: 68 returning as possible\n",
      "index: 69 returning 0 because of color: blue\n",
      "index: 70 returning as possible\n",
      "index: 71 returning as possible\n",
      "index: 72 returning as possible\n",
      "index: 73 returning as possible\n",
      "index: 74 returning as possible\n",
      "index: 75 returning 0 because of color: green\n",
      "index: 76 returning as possible\n",
      "index: 77 returning as possible\n",
      "index: 78 returning as possible\n",
      "index: 79 returning 0 because of color: red\n",
      "index: 80 returning 0 because of color: red\n",
      "index: 81 returning 0 because of color: red\n",
      "index: 82 returning 0 because of color: red\n",
      "index: 83 returning 0 because of color: blue\n",
      "index: 84 returning as possible\n",
      "index: 85 returning as possible\n",
      "index: 86 returning 0 because of color: red\n",
      "index: 87 returning as possible\n",
      "index: 88 returning as possible\n",
      "index: 89 returning 0 because of color: green\n",
      "index: 90 returning 0 because of color: blue\n",
      "index: 91 returning as possible\n",
      "index: 92 returning 0 because of color: green\n",
      "index: 93 returning as possible\n",
      "index: 94 returning 0 because of color: blue\n",
      "index: 95 returning as possible\n",
      "index: 96 returning as possible\n",
      "index: 97 returning 0 because of color: blue\n",
      "index: 98 returning 0 because of color: blue\n",
      "index: 99 returning 0 because of color: red\n",
      "index: 100 returning as possible\n"
     ]
    },
    {
     "data": {
      "text/plain": [
       "2683"
      ]
     },
     "execution_count": 158,
     "metadata": {},
     "output_type": "execute_result"
    }
   ],
   "source": [
    "count_games(lines, {'green': 13, 'red': 12, 'blue': 14})"
   ]
  },
  {
   "cell_type": "code",
   "execution_count": 66,
   "id": "100c3a9d",
   "metadata": {},
   "outputs": [
    {
     "data": {
      "text/plain": [
       "['6 green, 3 blue; 3 red, 1 green; 4 green, 3 red, 5 blue\\n',\n",
       " '2 red, 7 green; 13 green, 2 blue, 4 red; 4 green, 5 red, 1 blue; 1 blue, 9 red, 1 green\\n',\n",
       " '2 green, 3 blue, 9 red; 3 red, 2 green; 6 red, 4 blue; 6 red\\n',\n",
       " '9 red, 3 green; 3 green, 8 red, 6 blue; 12 blue, 4 green, 6 red; 4 green, 18 blue, 11 red; 9 blue, 2 green, 3 red; 14 blue, 7 red\\n',\n",
       " '1 blue, 2 green, 3 red; 16 red, 6 green; 6 green, 2 red; 9 red, 1 green\\n',\n",
       " '4 green, 7 red, 1 blue; 18 green, 6 blue, 7 red; 1 blue, 3 red, 9 green; 9 red, 19 green, 1 blue; 7 red, 9 green, 4 blue; 5 red, 5 blue, 10 green\\n',\n",
       " '16 blue, 5 green, 6 red; 1 blue, 6 red, 9 green; 6 green, 3 red, 2 blue; 2 red, 12 blue, 2 green\\n',\n",
       " '6 green, 10 red; 7 red, 6 green, 17 blue; 13 blue, 1 red\\n',\n",
       " '2 red, 4 green, 5 blue; 2 green, 5 blue; 4 green, 1 blue; 3 green, 3 red, 6 blue; 3 green\\n',\n",
       " '3 green, 5 red, 6 blue; 4 blue, 4 red, 5 green; 5 green, 9 red, 5 blue; 4 green, 6 blue, 10 red\\n',\n",
       " '1 blue, 7 red, 9 green; 1 blue, 13 red, 7 green; 5 red; 4 red, 7 green, 2 blue; 7 green, 12 red; 13 red, 2 blue, 12 green\\n',\n",
       " '4 blue, 2 red; 9 blue, 2 green, 3 red; 8 blue, 1 green, 1 red; 2 red, 3 green, 11 blue\\n',\n",
       " '6 red, 8 green, 2 blue; 6 red, 7 green; 3 green, 3 red; 2 blue; 3 red, 5 green\\n',\n",
       " '2 green, 11 blue, 1 red; 5 blue, 1 red, 1 green; 3 green, 12 blue, 2 red\\n',\n",
       " '4 blue, 6 red, 7 green; 1 red, 2 blue, 5 green; 6 red, 3 green, 8 blue; 7 green, 8 blue, 4 red\\n',\n",
       " '2 red, 16 blue; 2 green, 7 red; 15 blue, 7 red; 2 red, 3 green, 3 blue; 3 red, 1 green, 4 blue; 4 blue, 3 green\\n',\n",
       " '2 red, 3 green, 10 blue; 9 red, 4 blue, 3 green; 3 green, 11 red, 6 blue\\n',\n",
       " '1 red; 6 green, 1 red, 9 blue; 4 blue, 2 green; 6 blue, 10 green\\n',\n",
       " '2 red, 9 green; 2 red, 1 blue; 5 blue, 12 green; 5 green; 8 green, 2 red, 3 blue; 1 red, 11 green\\n',\n",
       " '3 green, 2 red, 7 blue; 1 blue, 10 green; 1 red, 14 blue, 13 green; 3 green, 19 blue, 4 red\\n',\n",
       " '8 red, 10 blue, 8 green; 2 red, 7 green, 18 blue; 4 green, 11 blue, 4 red; 5 green, 3 blue, 10 red\\n',\n",
       " '17 blue, 2 green, 2 red; 8 red, 7 blue; 1 red, 9 blue, 1 green\\n',\n",
       " '4 blue, 18 red, 4 green; 3 blue, 7 red; 11 red; 3 blue, 6 red; 19 red\\n',\n",
       " '10 red, 1 blue, 17 green; 17 green, 6 red; 14 green, 4 blue\\n',\n",
       " '4 blue, 9 green, 4 red; 3 green, 5 blue; 5 blue, 8 green; 3 green, 3 blue, 1 red; 10 green, 1 blue, 4 red; 2 green, 2 blue, 1 red\\n',\n",
       " '18 green, 3 red, 12 blue; 2 red, 7 green; 11 blue, 17 green; 12 green, 11 blue; 12 green, 4 blue, 3 red\\n',\n",
       " '1 red, 3 blue, 8 green; 15 blue, 8 red, 4 green; 6 red, 9 blue; 6 red, 12 blue, 9 green; 4 red, 7 blue, 15 green\\n',\n",
       " '1 red, 14 green; 1 blue, 11 green; 2 green; 4 red, 6 green, 1 blue\\n',\n",
       " '1 green, 13 red; 4 red, 16 green, 7 blue; 2 red, 4 blue; 12 green, 8 blue, 4 red; 2 red; 12 red, 5 green\\n',\n",
       " '3 green, 4 blue, 3 red; 5 blue, 4 green, 7 red; 5 blue, 2 green, 2 red; 3 red, 1 blue\\n',\n",
       " '1 blue, 8 green; 9 green, 2 blue, 1 red; 1 red, 2 blue\\n',\n",
       " '11 red, 5 green, 4 blue; 3 blue, 11 red, 8 green; 6 blue, 3 green, 17 red; 4 red, 7 green, 10 blue\\n',\n",
       " '6 blue, 4 red; 1 green; 1 green, 4 red, 4 blue; 1 green, 3 red, 10 blue; 10 blue, 1 red\\n',\n",
       " '2 green, 3 blue, 3 red; 4 red; 2 red, 2 blue\\n',\n",
       " '9 green, 13 blue; 13 blue, 14 red, 1 green; 11 blue, 4 red, 7 green; 5 blue, 5 red, 8 green; 4 red, 2 blue, 2 green\\n',\n",
       " '9 red, 5 blue, 8 green; 7 red, 20 blue; 6 green, 16 blue, 5 red; 12 red, 3 blue, 3 green; 3 green, 6 blue, 11 red; 11 red, 8 blue, 3 green\\n',\n",
       " '10 green, 11 red, 3 blue; 2 blue, 6 green, 11 red; 9 green, 8 red, 2 blue\\n',\n",
       " '2 red, 2 green, 4 blue; 3 red, 4 green, 3 blue; 8 green, 1 blue, 1 red; 3 red, 5 blue, 5 green\\n',\n",
       " '3 green, 17 red, 4 blue; 2 green, 20 red; 4 blue, 4 red, 5 green; 5 blue, 7 green, 7 red; 4 blue, 5 green, 16 red\\n',\n",
       " '2 green, 2 blue, 4 red; 3 blue, 16 green; 1 green, 2 blue; 1 red; 3 blue, 15 green; 13 green, 1 red, 2 blue\\n',\n",
       " '12 red, 10 blue, 9 green; 1 green, 15 red, 4 blue; 2 green, 8 blue, 12 red; 3 red, 4 green, 2 blue; 8 blue, 14 red, 10 green; 9 blue, 7 green, 6 red\\n',\n",
       " '5 red, 3 green, 6 blue; 4 blue, 6 green, 2 red; 10 blue; 3 red, 6 green, 10 blue\\n',\n",
       " '9 blue, 7 green, 1 red; 2 green, 2 red, 8 blue; 3 red, 15 blue, 11 green; 1 red, 6 blue, 1 green; 2 red, 1 blue; 1 red, 3 green, 7 blue\\n',\n",
       " '4 green, 6 red; 15 green, 6 red; 9 green, 16 red, 7 blue; 11 green, 4 blue, 12 red\\n',\n",
       " '3 blue, 6 green, 1 red; 4 green, 3 blue; 8 green, 3 blue\\n',\n",
       " '10 red, 8 blue; 12 red, 2 green, 17 blue; 17 blue, 6 red, 1 green; 18 red, 6 green, 3 blue; 16 blue, 2 green, 3 red\\n',\n",
       " '8 green, 13 red; 8 green, 8 red, 4 blue; 10 red, 3 green; 14 red, 5 green, 8 blue; 7 green, 19 red, 3 blue; 2 red, 5 green, 5 blue\\n',\n",
       " '7 green, 9 blue, 3 red; 7 blue, 1 green, 9 red; 7 green, 4 red, 1 blue; 6 green, 3 red, 1 blue\\n',\n",
       " '2 red, 3 green; 3 blue, 2 red; 4 red, 3 blue\\n',\n",
       " '3 red, 7 blue, 4 green; 2 green, 1 blue, 7 red; 4 red, 1 green, 5 blue\\n',\n",
       " '11 red, 6 green, 1 blue; 7 red, 1 blue, 9 green; 15 red, 18 green; 11 green, 1 blue, 11 red; 10 green, 14 red; 1 red, 11 green, 1 blue\\n',\n",
       " '18 blue, 1 red, 2 green; 18 blue, 3 green, 1 red; 2 green, 13 blue, 1 red\\n',\n",
       " '2 blue, 9 red, 6 green; 1 blue, 3 red; 7 red, 6 blue, 8 green; 2 red, 3 blue, 4 green; 1 green, 2 blue, 2 red\\n',\n",
       " '16 red, 4 blue; 1 green, 3 blue, 3 red; 2 green, 12 red; 2 green, 1 blue, 3 red; 10 blue, 6 red, 2 green\\n',\n",
       " '1 blue, 4 red, 1 green; 2 blue, 2 red; 13 red, 4 blue, 1 green; 4 blue, 9 red; 1 green, 1 blue, 16 red\\n',\n",
       " '12 blue, 12 green; 4 blue, 1 red, 3 green; 2 red, 12 green; 1 red, 11 green, 13 blue; 16 blue, 5 green\\n',\n",
       " '1 blue, 3 red; 10 green, 5 red; 5 green, 2 red; 1 red, 13 green\\n',\n",
       " '6 blue, 1 red, 6 green; 3 red, 9 blue; 4 red, 9 blue, 5 green; 1 green, 5 red, 7 blue\\n',\n",
       " '10 red, 3 green, 3 blue; 6 blue, 11 red, 1 green; 5 green, 10 red; 16 red, 2 blue, 4 green; 3 green, 10 red\\n',\n",
       " '2 green, 1 blue; 1 green, 1 blue, 4 red; 3 blue, 1 red, 1 green; 2 red, 2 green; 4 red\\n',\n",
       " '5 red, 1 green, 10 blue; 9 red, 10 blue; 1 red, 2 green, 4 blue; 10 blue, 2 green, 9 red; 1 red, 12 blue, 2 green\\n',\n",
       " '1 blue, 5 green; 4 blue, 12 green, 1 red; 7 blue, 3 green; 7 blue, 3 green; 3 blue, 1 green, 2 red; 7 blue, 1 red, 12 green\\n',\n",
       " '4 blue, 2 green, 5 red; 1 green, 2 red, 2 blue; 4 blue, 2 red, 2 green; 1 blue, 6 red, 2 green; 6 blue, 1 red; 1 green, 9 red, 6 blue\\n',\n",
       " '1 green; 3 green, 5 blue, 5 red; 3 red, 3 blue, 3 green; 1 green, 4 red, 6 blue; 5 red\\n',\n",
       " '2 red; 1 blue, 1 red; 7 red, 2 blue; 1 green, 4 blue, 3 red\\n',\n",
       " '3 red, 9 blue; 1 red, 6 blue, 15 green; 3 green, 3 red, 11 blue\\n',\n",
       " '2 red, 1 green, 2 blue; 6 red, 1 green; 1 blue, 1 red, 4 green\\n',\n",
       " '3 red, 1 blue; 1 green, 3 red, 2 blue; 1 green, 8 red; 2 blue, 3 red\\n',\n",
       " '5 blue, 6 red; 1 green, 15 blue, 10 red; 1 green, 2 red, 4 blue; 5 blue, 7 red; 3 red, 1 green, 11 blue\\n',\n",
       " '4 green, 2 red, 8 blue; 5 red, 3 blue; 10 green, 5 blue\\n',\n",
       " '1 red, 2 blue, 9 green; 3 red, 8 green; 1 red, 2 blue, 6 green; 3 red, 6 blue, 8 green; 6 green, 3 blue, 2 red; 3 red, 8 green, 6 blue\\n',\n",
       " '1 red, 11 green; 1 blue, 7 green, 1 red; 2 red, 12 green; 10 green, 6 red\\n',\n",
       " '9 green, 2 red; 1 blue, 3 green; 1 blue, 1 red, 7 green; 2 blue, 9 green, 4 red; 2 blue, 3 red, 8 green; 2 green, 9 red\\n',\n",
       " '2 green, 7 red; 1 green, 3 blue, 6 red; 4 green, 3 blue, 6 red; 2 green, 3 blue, 1 red; 3 red, 2 blue, 1 green\\n',\n",
       " '15 green, 2 blue; 15 green, 6 red, 2 blue; 12 green, 2 blue, 1 red\\n',\n",
       " '1 red, 9 green, 12 blue; 6 red, 12 green, 1 blue; 7 green, 2 blue, 1 red\\n',\n",
       " '11 blue, 1 red; 7 blue, 2 red, 13 green; 10 blue, 10 green; 12 blue, 3 red\\n',\n",
       " '4 green; 1 blue, 5 green; 5 green, 1 blue, 1 red\\n',\n",
       " '4 green, 7 blue, 16 red; 1 blue, 10 red, 5 green; 3 green, 4 red, 3 blue; 11 blue, 18 red, 5 green\\n',\n",
       " '1 red, 4 blue, 6 green; 14 blue, 16 red, 2 green; 2 blue, 5 red, 4 green; 2 green, 8 red; 18 red, 6 green, 2 blue; 18 red, 9 blue\\n',\n",
       " '11 red, 8 blue, 1 green; 12 blue, 2 green, 14 red; 16 red, 2 green, 6 blue; 17 red, 2 green; 3 green, 3 blue, 15 red\\n',\n",
       " '13 red, 1 blue, 6 green; 3 green, 12 red, 3 blue; 5 red, 3 green, 18 blue; 15 blue, 8 red\\n',\n",
       " '9 green, 5 blue, 5 red; 8 green, 15 blue, 7 red; 4 green, 6 red, 10 blue; 5 green, 2 red\\n',\n",
       " '2 blue, 2 green, 6 red; 2 green, 7 red, 1 blue; 3 green, 3 blue; 2 green, 3 red, 3 blue; 6 green, 4 red\\n',\n",
       " '1 blue, 3 green, 5 red; 2 green, 2 red; 4 red, 3 blue; 2 green, 3 blue, 1 red; 4 red, 2 green, 4 blue\\n',\n",
       " '6 red, 1 blue; 1 green, 16 red; 2 green, 1 red; 12 red, 1 blue\\n',\n",
       " '6 red, 12 green, 1 blue; 5 blue, 6 red, 4 green; 2 blue, 5 red, 8 green\\n',\n",
       " '3 green, 6 red, 2 blue; 3 blue, 2 green, 6 red; 1 red, 11 blue, 2 green\\n',\n",
       " '7 red, 3 blue, 9 green; 6 red, 3 blue, 15 green; 2 blue, 6 red, 12 green; 5 red, 8 green; 3 blue, 7 red, 9 green; 5 red, 7 green\\n',\n",
       " '2 green, 4 red, 19 blue; 13 blue, 4 red, 1 green; 14 blue, 8 green\\n',\n",
       " '12 green, 5 blue, 4 red; 9 green, 10 blue, 1 red; 13 green, 1 blue, 4 red; 2 red, 5 blue; 2 blue, 7 green, 2 red; 5 blue, 5 green, 3 red\\n',\n",
       " '9 red, 6 blue, 16 green; 11 green, 2 red, 7 blue; 1 green, 1 red, 3 blue; 4 green, 8 red\\n',\n",
       " '1 green, 4 blue, 8 red; 2 red, 1 green, 2 blue; 2 blue, 9 red; 1 green, 4 blue, 3 red; 3 red, 1 green, 4 blue\\n',\n",
       " '1 green, 7 red, 4 blue; 4 red, 3 blue; 16 blue, 9 red, 7 green; 9 red, 15 blue; 15 blue, 3 red, 6 green; 7 red, 10 blue, 12 green\\n',\n",
       " '5 green, 6 blue; 10 green, 9 blue; 4 blue, 8 green, 2 red; 5 blue, 5 green, 1 red\\n',\n",
       " '13 blue, 10 red, 2 green; 10 red, 2 green, 1 blue; 6 blue, 5 red, 3 green; 11 red, 3 green, 5 blue; 11 red, 2 green; 3 green, 6 blue\\n',\n",
       " '9 green, 11 red, 8 blue; 6 red, 9 blue, 2 green; 3 red, 17 blue, 1 green\\n',\n",
       " '14 blue, 3 green; 2 red, 15 blue, 3 green; 15 blue, 8 green, 1 red; 1 red, 8 green\\n',\n",
       " '2 green, 7 blue; 14 red, 1 green, 4 blue; 8 blue, 13 red, 2 green; 10 green, 7 red, 10 blue\\n',\n",
       " '5 green, 11 blue, 6 red; 5 green, 12 blue; 1 green, 14 blue, 1 red; 3 blue, 5 red, 6 green; 9 blue; 6 red']"
      ]
     },
     "execution_count": 66,
     "metadata": {},
     "output_type": "execute_result"
    }
   ],
   "source": [
    "[game[game.find(':')+2:] for game in lines]"
   ]
  }
 ],
 "metadata": {
  "kernelspec": {
   "display_name": "Python 3 (ipykernel)",
   "language": "python",
   "name": "python3"
  },
  "language_info": {
   "codemirror_mode": {
    "name": "ipython",
    "version": 3
   },
   "file_extension": ".py",
   "mimetype": "text/x-python",
   "name": "python",
   "nbconvert_exporter": "python",
   "pygments_lexer": "ipython3",
   "version": "3.10.4"
  }
 },
 "nbformat": 4,
 "nbformat_minor": 5
}
